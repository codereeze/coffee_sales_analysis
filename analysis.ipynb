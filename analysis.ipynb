{
 "cells": [
  {
   "cell_type": "code",
   "execution_count": 2,
   "metadata": {},
   "outputs": [],
   "source": [
    "import pandas as pd\n",
    "import seaborn as sns\n",
    "import matplotlib.pyplot as mp\n",
    "\n",
    "data = pd.read_csv('Coffee-Shop-Sales.csv')"
   ]
  },
  {
   "cell_type": "code",
   "execution_count": 2,
   "metadata": {},
   "outputs": [
    {
     "name": "stdout",
     "output_type": "stream",
     "text": [
      "store_location\n",
      "Hell's Kitchen     50735\n",
      "Astoria            50599\n",
      "Lower Manhattan    47782\n",
      "Name: count, dtype: int64\n"
     ]
    }
   ],
   "source": [
    "count_data = data['store_location'].value_counts()\n",
    "print(count_data)"
   ]
  },
  {
   "cell_type": "code",
   "execution_count": 3,
   "metadata": {},
   "outputs": [
    {
     "name": "stdout",
     "output_type": "stream",
     "text": [
      "[5, 8, 3]\n"
     ]
    }
   ],
   "source": [
    "# selected_location = [\"Lower Manhattan\", \"Astoria\", \"Hell's Kitchen\"]\n",
    "# filtered_df = data[data[\"store_location\"].isin(selected_location)]\n",
    "# store_ids = filtered_df[\"store_id\"].unique().tolist()\n",
    "\n",
    "# print(store_ids)"
   ]
  },
  {
   "cell_type": "code",
   "execution_count": null,
   "metadata": {},
   "outputs": [],
   "source": [
    "# ambil data penjualan selama satu bulan di wilayah Astoria\n",
    "data['transaction_date'] = pd.to_datetime(data['transaction_date'], format='%d/%m/%Y')\n",
    "\n",
    "# filter berdasarkan wilayah dan rentang waktu\n",
    "start_date = '1-1-2023'\n",
    "end_date = '31-1-2023'\n",
    "astoria_data_in_month = data[(data['store_location'] == 'Astoria') & (data['transaction_date'] >= start_date) & (data['transaction_date'] <= end_date)]\n",
    "\n",
    "# jumlah transaksi dalam satu bulan januari\n",
    "totalOneMonth = astoria_data_in_month.__len__()"
   ]
  },
  {
   "cell_type": "code",
   "execution_count": 11,
   "metadata": {},
   "outputs": [],
   "source": [
    "# ambil data penjualan dalam satu hari di bulan januari di tanggal 1 di wilayah Astoria\n",
    "data['transaction_date'] = pd.to_datetime(data['transaction_date'], format='%d/%m/%Y')\n",
    "\n",
    "# filter wilayah dan rentang waktu selama satu hari\n",
    "day = '1-1-2023'\n",
    "\n",
    "astoria_data_on_day = data[(data['store_location'] == 'Astoria') & (data['transaction_date'] == day)]\n",
    "\n",
    "# total transaksi dalam satu hari\n",
    "totalOneDay = astoria_data_on_day.__len__()"
   ]
  },
  {
   "cell_type": "code",
   "execution_count": 21,
   "metadata": {},
   "outputs": [],
   "source": [
    "# ambil data total penjualan dalam rentang waktu pagi, siang, sore, malam dalam satu bulan di wilayah Astoria\n",
    "\n",
    "# tentukan waktu\n",
    "pagi = pd.to_datetime('06:00:00', format='%H:%M:%S')\n",
    "siang = pd.to_datetime('12:00:00', format='%H:%M:%S')\n",
    "sore = pd.to_datetime('17:00:00', format='%H:%M:%S')\n",
    "malam = pd.to_datetime('19:00:00', format='%H:%M:%S')\n",
    "\n",
    "# tentukan bulan\n",
    "start_date = pd.to_datetime('2023-01-01')\n",
    "end_date = pd.to_datetime('2023-01-31')\n",
    "\n",
    "# hasil\n",
    "astoria_data_on_morning = data[(data['store_location'] == 'Astoria') & \n",
    "                               (data['transaction_time'] >= pagi) & \n",
    "                               (data['transaction_time'] < siang) & \n",
    "                               (data['transaction_date'] >= start_date) & \n",
    "                               (data['transaction_date'] <= end_date)]\n",
    "                               \n",
    "astoria_data_on_afternoon = data[(data['store_location'] == 'Astoria') & \n",
    "                               (data['transaction_time'] >= siang) & \n",
    "                               (data['transaction_time'] < sore) & \n",
    "                               (data['transaction_date'] >= start_date) & \n",
    "                               (data['transaction_date'] <= end_date)]\n",
    "\n",
    "astoria_data_on_late_afternoon = data[(data['store_location'] == 'Astoria') & \n",
    "                               (data['transaction_time'] >= sore) & \n",
    "                               (data['transaction_time'] < malam) & \n",
    "                               (data['transaction_date'] >= start_date) & \n",
    "                               (data['transaction_date'] <= end_date)]\n",
    "\n",
    "astoria_data_on_night = data[(data['store_location'] == 'Astoria') & \n",
    "                               (data['transaction_time'] >= sore) & \n",
    "                               (data['transaction_date'] >= start_date) & \n",
    "                               (data['transaction_date'] <= end_date)]\n",
    "\n",
    "\n",
    "\n",
    "\n"
   ]
  }
 ],
 "metadata": {
  "kernelspec": {
   "display_name": "Python 3",
   "language": "python",
   "name": "python3"
  },
  "language_info": {
   "codemirror_mode": {
    "name": "ipython",
    "version": 3
   },
   "file_extension": ".py",
   "mimetype": "text/x-python",
   "name": "python",
   "nbconvert_exporter": "python",
   "pygments_lexer": "ipython3",
   "version": "3.12.3"
  }
 },
 "nbformat": 4,
 "nbformat_minor": 2
}

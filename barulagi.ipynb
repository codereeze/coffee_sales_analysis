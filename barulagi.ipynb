{
 "cells": [
  {
   "cell_type": "code",
   "execution_count": null,
   "metadata": {},
   "outputs": [],
   "source": [
    "import numpy as np\n",
    "import plotly.graph_objs as go\n",
    "from sklearn.linear_model import LinearRegression\n",
    "\n",
    "# Data sampel pendapatan untuk wilayah Astoria, Lower Manhattan, dan Hell's Kitchen\n",
    "# Disesuaikan dengan data nyata\n",
    "astoria_income = np.array([50000, 55000, 60000, 62000, 63000, 64000])  # Pendapatan Astoria untuk periode pertama (Januari - Juni)\n",
    "manhattan_income = np.array([70000, 72000, 75000, 77000, 78000, 80000])  # Pendapatan Lower Manhattan untuk periode pertama (Januari - Juni)\n",
    "hellskitchen_income = np.array([48000, 50000, 52000, 53000, 54000, 55000])  # Pendapatan Hell's Kitchen untuk periode pertama (Januari - Juni)\n",
    "\n",
    "# Gabungkan data pendapatan dari ketiga wilayah ke dalam satu array\n",
    "income_data = np.column_stack((astoria_income, manhattan_income, hellskitchen_income))\n",
    "\n",
    "# Data bulan untuk periode pertama (Januari - Juni)\n",
    "bulan_pertama = np.array(range(1, 7)).reshape(-1, 1)\n",
    "\n",
    "# Inisialisasi model regresi linear\n",
    "model = LinearRegression()\n",
    "\n",
    "# Melatih model menggunakan data pendapatan dari periode pertama\n",
    "model.fit(bulan_pertama, income_data)\n",
    "\n",
    "# Prediksi pendapatan untuk wilayah-wilayah tersebut pada periode kedua (Juli - Desember)\n",
    "bulan_kedua = np.array(range(7, 13)).reshape(-1, 1)\n",
    "prediksi_pendapatan = model.predict(bulan_kedua)\n",
    "\n",
    "# Membuat data untuk plot\n",
    "trace_astoria_pertama = go.Bar(x=bulan_pertama.flatten(), y=astoria_income, name='Astoria - Periode Pertama', marker=dict(color='blue'))\n",
    "trace_manhattan_pertama = go.Bar(x=bulan_pertama.flatten(), y=manhattan_income, name='Lower Manhattan - Periode Pertama', marker=dict(color='red'))\n",
    "trace_hellskitchen_pertama = go.Bar(x=bulan_pertama.flatten(), y=hellskitchen_income, name=\"Hell's Kitchen - Periode Pertama\", marker=dict(color='green'))\n",
    "\n",
    "trace_astoria_prediksi = go.Bar(x=bulan_kedua.flatten(), y=prediksi_pendapatan[:, 0], name='Astoria - Periode Kedua (Prediksi)', marker=dict(color='lightblue'))\n",
    "trace_manhattan_prediksi = go.Bar(x=bulan_kedua.flatten(), y=prediksi_pendapatan[:, 1], name='Lower Manhattan - Periode Kedua (Prediksi)', marker=dict(color='pink'))\n",
    "trace_hellskitchen_prediksi = go.Bar(x=bulan_kedua.flatten(), y=prediksi_pendapatan[:, 2], name=\"Hell's Kitchen - Periode Kedua (Prediksi)\", marker=dict(color='lightgreen'))\n",
    "\n",
    "# Membuat layout untuk plot\n",
    "layout = go.Layout(title='Pendapatan Wilayah untuk Periode Pertama dan Periode Kedua (Prediksi)',\n",
    "                   xaxis=dict(title='Bulan'),\n",
    "                   yaxis=dict(title='Pendapatan'))\n",
    "\n",
    "# Menggabungkan data dan layout menjadi objek fig\n",
    "fig = go.Figure(data=[trace_astoria_pertama, trace_manhattan_pertama, trace_hellskitchen_pertama,\n",
    "                      trace_astoria_prediksi, trace_manhattan_prediksi, trace_hellskitchen_prediksi],\n",
    "                layout=layout)\n",
    "\n",
    "# Menampilkan plot\n",
    "fig.show()"
   ]
  }
 ],
 "metadata": {
  "language_info": {
   "name": "python"
  }
 },
 "nbformat": 4,
 "nbformat_minor": 2
}
